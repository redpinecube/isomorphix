{
 "cells": [
  {
   "cell_type": "code",
   "execution_count": 51,
   "metadata": {},
   "outputs": [],
   "source": [
    "import pandas as pd\n",
    "import networkx as nx"
   ]
  },
  {
   "cell_type": "code",
   "execution_count": 50,
   "metadata": {},
   "outputs": [],
   "source": [
    "male_data = pd.read_csv(\"data/male.gz\")"
   ]
  },
  {
   "cell_type": "code",
   "execution_count": 48,
   "metadata": {},
   "outputs": [],
   "source": [
    "def create_graph_sequence(node, data):\n",
    "    \"\"\"\n",
    "    for the specified node, create a sequence of graphs with n level neigbour expansions. \n",
    "    \"\"\"\n",
    "    i = {node}\n",
    "    current_level = {node}\n",
    "    graph_sequence = []\n",
    "    previous_graph = None\n",
    "\n",
    "    while True:\n",
    "        graph = data[data[\"From Node ID\"].isin(current_level)]\n",
    "\n",
    "        if previous_graph is not None and graph.equals(previous_graph):\n",
    "            break\n",
    "\n",
    "        graph_sequence.append(graph)\n",
    "        current_level = set(graph[\"To Node Id\"])\n",
    "        i = current_level.union(i)\n",
    "        previous_graph = graph\n",
    "\n",
    "    return graph_sequence\n"
   ]
  }
 ],
 "metadata": {
  "kernelspec": {
   "display_name": "iso",
   "language": "python",
   "name": "python3"
  },
  "language_info": {
   "codemirror_mode": {
    "name": "ipython",
    "version": 3
   },
   "file_extension": ".py",
   "mimetype": "text/x-python",
   "name": "python",
   "nbconvert_exporter": "python",
   "pygments_lexer": "ipython3",
   "version": "3.10.16"
  }
 },
 "nbformat": 4,
 "nbformat_minor": 2
}
